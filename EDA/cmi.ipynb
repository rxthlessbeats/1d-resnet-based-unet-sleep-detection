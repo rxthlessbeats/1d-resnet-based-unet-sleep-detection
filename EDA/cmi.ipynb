{
 "cells": [
  {
   "cell_type": "code",
   "execution_count": 1,
   "metadata": {},
   "outputs": [],
   "source": [
    "import numpy as np \n",
    "import pandas as pd\n",
    "import matplotlib.pyplot as plt\n",
    "import polars as pl\n",
    "import datetime \n",
    "from tqdm import tqdm\n",
    "from pathlib import Path"
   ]
  },
  {
   "cell_type": "code",
   "execution_count": 2,
   "metadata": {},
   "outputs": [
    {
     "data": {
      "text/html": [
       "<i>naive plan: (run <b>LazyFrame.explain(optimized=True)</b> to see the optimized plan)</i>\n",
       "    <p></p>\n",
       "    <div><p></p>  Parquet SCAN ../train_series.parquet<p></p>  PROJECT */5 COLUMNS</div>"
      ],
      "text/plain": [
       "<LazyFrame [5 cols, {\"series_id\": Utf8 … \"enmo\": Float32}] at 0x18415073BD0>"
      ]
     },
     "execution_count": 2,
     "metadata": {},
     "output_type": "execute_result"
    }
   ],
   "source": [
    "train_series = pl.scan_parquet('../train_series.parquet')\n",
    "train_series"
   ]
  },
  {
   "cell_type": "code",
   "execution_count": 3,
   "metadata": {},
   "outputs": [
    {
     "data": {
      "text/html": [
       "<div><style>\n",
       ".dataframe > thead > tr,\n",
       ".dataframe > tbody > tr {\n",
       "  text-align: right;\n",
       "  white-space: pre-wrap;\n",
       "}\n",
       "</style>\n",
       "<small>shape: (127_946_340, 5)</small><table border=\"1\" class=\"dataframe\"><thead><tr><th>series_id</th><th>step</th><th>timestamp</th><th>anglez</th><th>enmo</th></tr><tr><td>str</td><td>u32</td><td>str</td><td>f32</td><td>f32</td></tr></thead><tbody><tr><td>&quot;038441c925bb&quot;</td><td>0</td><td>&quot;2018-08-14T15:…</td><td>2.6367</td><td>0.0217</td></tr><tr><td>&quot;038441c925bb&quot;</td><td>1</td><td>&quot;2018-08-14T15:…</td><td>2.6368</td><td>0.0215</td></tr><tr><td>&quot;038441c925bb&quot;</td><td>2</td><td>&quot;2018-08-14T15:…</td><td>2.637</td><td>0.0216</td></tr><tr><td>&quot;038441c925bb&quot;</td><td>3</td><td>&quot;2018-08-14T15:…</td><td>2.6368</td><td>0.0213</td></tr><tr><td>&quot;038441c925bb&quot;</td><td>4</td><td>&quot;2018-08-14T15:…</td><td>2.6368</td><td>0.0215</td></tr><tr><td>&quot;038441c925bb&quot;</td><td>5</td><td>&quot;2018-08-14T15:…</td><td>2.6367</td><td>0.0217</td></tr><tr><td>&quot;038441c925bb&quot;</td><td>6</td><td>&quot;2018-08-14T15:…</td><td>2.6367</td><td>0.0217</td></tr><tr><td>&quot;038441c925bb&quot;</td><td>7</td><td>&quot;2018-08-14T15:…</td><td>2.6367</td><td>0.0218</td></tr><tr><td>&quot;038441c925bb&quot;</td><td>8</td><td>&quot;2018-08-14T15:…</td><td>2.798</td><td>0.0223</td></tr><tr><td>&quot;038441c925bb&quot;</td><td>9</td><td>&quot;2018-08-14T15:…</td><td>3.0847</td><td>0.0217</td></tr><tr><td>&quot;038441c925bb&quot;</td><td>10</td><td>&quot;2018-08-14T15:…</td><td>2.7802</td><td>0.0229</td></tr><tr><td>&quot;038441c925bb&quot;</td><td>11</td><td>&quot;2018-08-14T15:…</td><td>2.5205</td><td>0.0216</td></tr><tr><td>&hellip;</td><td>&hellip;</td><td>&hellip;</td><td>&hellip;</td><td>&hellip;</td></tr><tr><td>&quot;fe90110788d2&quot;</td><td>592368</td><td>&quot;2017-09-08T00:…</td><td>-27.9879</td><td>0.0196</td></tr><tr><td>&quot;fe90110788d2&quot;</td><td>592369</td><td>&quot;2017-09-08T00:…</td><td>-27.900101</td><td>0.0197</td></tr><tr><td>&quot;fe90110788d2&quot;</td><td>592370</td><td>&quot;2017-09-08T00:…</td><td>-27.919701</td><td>0.0205</td></tr><tr><td>&quot;fe90110788d2&quot;</td><td>592371</td><td>&quot;2017-09-08T00:…</td><td>-27.922701</td><td>0.0204</td></tr><tr><td>&quot;fe90110788d2&quot;</td><td>592372</td><td>&quot;2017-09-08T00:…</td><td>-27.647301</td><td>0.0207</td></tr><tr><td>&quot;fe90110788d2&quot;</td><td>592373</td><td>&quot;2017-09-08T00:…</td><td>-27.649099</td><td>0.0202</td></tr><tr><td>&quot;fe90110788d2&quot;</td><td>592374</td><td>&quot;2017-09-08T00:…</td><td>-27.450001</td><td>0.0203</td></tr><tr><td>&quot;fe90110788d2&quot;</td><td>592375</td><td>&quot;2017-09-08T00:…</td><td>-27.2775</td><td>0.0204</td></tr><tr><td>&quot;fe90110788d2&quot;</td><td>592376</td><td>&quot;2017-09-08T00:…</td><td>-27.032499</td><td>0.0233</td></tr><tr><td>&quot;fe90110788d2&quot;</td><td>592377</td><td>&quot;2017-09-08T00:…</td><td>-26.8412</td><td>0.0202</td></tr><tr><td>&quot;fe90110788d2&quot;</td><td>592378</td><td>&quot;2017-09-08T00:…</td><td>-26.7239</td><td>0.0199</td></tr><tr><td>&quot;fe90110788d2&quot;</td><td>592379</td><td>&quot;2017-09-08T00:…</td><td>-31.521601</td><td>0.0205</td></tr></tbody></table></div>"
      ],
      "text/plain": [
       "shape: (127_946_340, 5)\n",
       "┌──────────────┬────────┬──────────────────────────┬────────────┬────────┐\n",
       "│ series_id    ┆ step   ┆ timestamp                ┆ anglez     ┆ enmo   │\n",
       "│ ---          ┆ ---    ┆ ---                      ┆ ---        ┆ ---    │\n",
       "│ str          ┆ u32    ┆ str                      ┆ f32        ┆ f32    │\n",
       "╞══════════════╪════════╪══════════════════════════╪════════════╪════════╡\n",
       "│ 038441c925bb ┆ 0      ┆ 2018-08-14T15:30:00-0400 ┆ 2.6367     ┆ 0.0217 │\n",
       "│ 038441c925bb ┆ 1      ┆ 2018-08-14T15:30:05-0400 ┆ 2.6368     ┆ 0.0215 │\n",
       "│ 038441c925bb ┆ 2      ┆ 2018-08-14T15:30:10-0400 ┆ 2.637      ┆ 0.0216 │\n",
       "│ 038441c925bb ┆ 3      ┆ 2018-08-14T15:30:15-0400 ┆ 2.6368     ┆ 0.0213 │\n",
       "│ …            ┆ …      ┆ …                        ┆ …          ┆ …      │\n",
       "│ fe90110788d2 ┆ 592376 ┆ 2017-09-08T00:14:40-0400 ┆ -27.032499 ┆ 0.0233 │\n",
       "│ fe90110788d2 ┆ 592377 ┆ 2017-09-08T00:14:45-0400 ┆ -26.8412   ┆ 0.0202 │\n",
       "│ fe90110788d2 ┆ 592378 ┆ 2017-09-08T00:14:50-0400 ┆ -26.7239   ┆ 0.0199 │\n",
       "│ fe90110788d2 ┆ 592379 ┆ 2017-09-08T00:14:55-0400 ┆ -31.521601 ┆ 0.0205 │\n",
       "└──────────────┴────────┴──────────────────────────┴────────────┴────────┘"
      ]
     },
     "execution_count": 3,
     "metadata": {},
     "output_type": "execute_result"
    }
   ],
   "source": [
    "train_series_df = pl.read_parquet('../train_series.parquet')\n",
    "train_series_df"
   ]
  },
  {
   "cell_type": "code",
   "execution_count": 5,
   "metadata": {},
   "outputs": [
    {
     "data": {
      "text/html": [
       "<div><style>\n",
       ".dataframe > thead > tr,\n",
       ".dataframe > tbody > tr {\n",
       "  text-align: right;\n",
       "  white-space: pre-wrap;\n",
       "}\n",
       "</style>\n",
       "<small>shape: (14_508, 5)</small><table border=\"1\" class=\"dataframe\"><thead><tr><th>series_id</th><th>night</th><th>event</th><th>step</th><th>timestamp</th></tr><tr><td>str</td><td>i64</td><td>str</td><td>i64</td><td>str</td></tr></thead><tbody><tr><td>&quot;038441c925bb&quot;</td><td>1</td><td>&quot;onset&quot;</td><td>4992</td><td>&quot;2018-08-14T22:…</td></tr><tr><td>&quot;038441c925bb&quot;</td><td>1</td><td>&quot;wakeup&quot;</td><td>10932</td><td>&quot;2018-08-15T06:…</td></tr><tr><td>&quot;038441c925bb&quot;</td><td>2</td><td>&quot;onset&quot;</td><td>20244</td><td>&quot;2018-08-15T19:…</td></tr><tr><td>&quot;038441c925bb&quot;</td><td>2</td><td>&quot;wakeup&quot;</td><td>27492</td><td>&quot;2018-08-16T05:…</td></tr><tr><td>&quot;038441c925bb&quot;</td><td>3</td><td>&quot;onset&quot;</td><td>39996</td><td>&quot;2018-08-16T23:…</td></tr><tr><td>&quot;038441c925bb&quot;</td><td>3</td><td>&quot;wakeup&quot;</td><td>44400</td><td>&quot;2018-08-17T05:…</td></tr><tr><td>&quot;038441c925bb&quot;</td><td>4</td><td>&quot;onset&quot;</td><td>57240</td><td>&quot;2018-08-17T23:…</td></tr><tr><td>&quot;038441c925bb&quot;</td><td>4</td><td>&quot;wakeup&quot;</td><td>62856</td><td>&quot;2018-08-18T06:…</td></tr><tr><td>&quot;038441c925bb&quot;</td><td>5</td><td>&quot;onset&quot;</td><td>null</td><td>null</td></tr><tr><td>&quot;038441c925bb&quot;</td><td>5</td><td>&quot;wakeup&quot;</td><td>null</td><td>null</td></tr><tr><td>&quot;038441c925bb&quot;</td><td>6</td><td>&quot;onset&quot;</td><td>91296</td><td>&quot;2018-08-19T22:…</td></tr><tr><td>&quot;038441c925bb&quot;</td><td>6</td><td>&quot;wakeup&quot;</td><td>97860</td><td>&quot;2018-08-20T07:…</td></tr><tr><td>&hellip;</td><td>&hellip;</td><td>&hellip;</td><td>&hellip;</td><td>&hellip;</td></tr><tr><td>&quot;fe90110788d2&quot;</td><td>30</td><td>&quot;onset&quot;</td><td>505116</td><td>&quot;2017-09-02T23:…</td></tr><tr><td>&quot;fe90110788d2&quot;</td><td>30</td><td>&quot;wakeup&quot;</td><td>511284</td><td>&quot;2017-09-03T07:…</td></tr><tr><td>&quot;fe90110788d2&quot;</td><td>31</td><td>&quot;onset&quot;</td><td>522852</td><td>&quot;2017-09-03T23:…</td></tr><tr><td>&quot;fe90110788d2&quot;</td><td>31</td><td>&quot;wakeup&quot;</td><td>529104</td><td>&quot;2017-09-04T08:…</td></tr><tr><td>&quot;fe90110788d2&quot;</td><td>32</td><td>&quot;onset&quot;</td><td>538956</td><td>&quot;2017-09-04T22:…</td></tr><tr><td>&quot;fe90110788d2&quot;</td><td>32</td><td>&quot;wakeup&quot;</td><td>547152</td><td>&quot;2017-09-05T09:…</td></tr><tr><td>&quot;fe90110788d2&quot;</td><td>33</td><td>&quot;onset&quot;</td><td>556560</td><td>&quot;2017-09-05T22:…</td></tr><tr><td>&quot;fe90110788d2&quot;</td><td>33</td><td>&quot;wakeup&quot;</td><td>560604</td><td>&quot;2017-09-06T04:…</td></tr><tr><td>&quot;fe90110788d2&quot;</td><td>34</td><td>&quot;onset&quot;</td><td>574620</td><td>&quot;2017-09-06T23:…</td></tr><tr><td>&quot;fe90110788d2&quot;</td><td>34</td><td>&quot;wakeup&quot;</td><td>581604</td><td>&quot;2017-09-07T09:…</td></tr><tr><td>&quot;fe90110788d2&quot;</td><td>35</td><td>&quot;onset&quot;</td><td>null</td><td>null</td></tr><tr><td>&quot;fe90110788d2&quot;</td><td>35</td><td>&quot;wakeup&quot;</td><td>null</td><td>null</td></tr></tbody></table></div>"
      ],
      "text/plain": [
       "shape: (14_508, 5)\n",
       "┌──────────────┬───────┬────────┬────────┬──────────────────────────┐\n",
       "│ series_id    ┆ night ┆ event  ┆ step   ┆ timestamp                │\n",
       "│ ---          ┆ ---   ┆ ---    ┆ ---    ┆ ---                      │\n",
       "│ str          ┆ i64   ┆ str    ┆ i64    ┆ str                      │\n",
       "╞══════════════╪═══════╪════════╪════════╪══════════════════════════╡\n",
       "│ 038441c925bb ┆ 1     ┆ onset  ┆ 4992   ┆ 2018-08-14T22:26:00-0400 │\n",
       "│ 038441c925bb ┆ 1     ┆ wakeup ┆ 10932  ┆ 2018-08-15T06:41:00-0400 │\n",
       "│ 038441c925bb ┆ 2     ┆ onset  ┆ 20244  ┆ 2018-08-15T19:37:00-0400 │\n",
       "│ 038441c925bb ┆ 2     ┆ wakeup ┆ 27492  ┆ 2018-08-16T05:41:00-0400 │\n",
       "│ …            ┆ …     ┆ …      ┆ …      ┆ …                        │\n",
       "│ fe90110788d2 ┆ 34    ┆ onset  ┆ 574620 ┆ 2017-09-06T23:35:00-0400 │\n",
       "│ fe90110788d2 ┆ 34    ┆ wakeup ┆ 581604 ┆ 2017-09-07T09:17:00-0400 │\n",
       "│ fe90110788d2 ┆ 35    ┆ onset  ┆ null   ┆ null                     │\n",
       "│ fe90110788d2 ┆ 35    ┆ wakeup ┆ null   ┆ null                     │\n",
       "└──────────────┴───────┴────────┴────────┴──────────────────────────┘"
      ]
     },
     "execution_count": 5,
     "metadata": {},
     "output_type": "execute_result"
    }
   ],
   "source": [
    "train_events = pl.read_csv('../train_events.csv')\n",
    "# train_events = train_events.drop_nulls()\n",
    "train_events"
   ]
  },
  {
   "cell_type": "code",
   "execution_count": 6,
   "metadata": {},
   "outputs": [
    {
     "data": {
      "text/html": [
       "<div><style>\n",
       ".dataframe > thead > tr,\n",
       ".dataframe > tbody > tr {\n",
       "  text-align: right;\n",
       "  white-space: pre-wrap;\n",
       "}\n",
       "</style>\n",
       "<small>shape: (14_508, 5)</small><table border=\"1\" class=\"dataframe\"><thead><tr><th>series_id</th><th>night</th><th>event</th><th>step</th><th>timestamp</th></tr><tr><td>str</td><td>i64</td><td>str</td><td>i64</td><td>datetime[μs, UTC]</td></tr></thead><tbody><tr><td>&quot;038441c925bb&quot;</td><td>1</td><td>&quot;onset&quot;</td><td>4992</td><td>2018-08-15 02:26:00 UTC</td></tr><tr><td>&quot;038441c925bb&quot;</td><td>1</td><td>&quot;wakeup&quot;</td><td>10932</td><td>2018-08-15 10:41:00 UTC</td></tr><tr><td>&quot;038441c925bb&quot;</td><td>2</td><td>&quot;onset&quot;</td><td>20244</td><td>2018-08-15 23:37:00 UTC</td></tr><tr><td>&quot;038441c925bb&quot;</td><td>2</td><td>&quot;wakeup&quot;</td><td>27492</td><td>2018-08-16 09:41:00 UTC</td></tr><tr><td>&quot;038441c925bb&quot;</td><td>3</td><td>&quot;onset&quot;</td><td>39996</td><td>2018-08-17 03:03:00 UTC</td></tr><tr><td>&quot;038441c925bb&quot;</td><td>3</td><td>&quot;wakeup&quot;</td><td>44400</td><td>2018-08-17 09:10:00 UTC</td></tr><tr><td>&quot;038441c925bb&quot;</td><td>4</td><td>&quot;onset&quot;</td><td>57240</td><td>2018-08-18 03:00:00 UTC</td></tr><tr><td>&quot;038441c925bb&quot;</td><td>4</td><td>&quot;wakeup&quot;</td><td>62856</td><td>2018-08-18 10:48:00 UTC</td></tr><tr><td>&quot;038441c925bb&quot;</td><td>5</td><td>&quot;onset&quot;</td><td>null</td><td>null</td></tr><tr><td>&quot;038441c925bb&quot;</td><td>5</td><td>&quot;wakeup&quot;</td><td>null</td><td>null</td></tr><tr><td>&quot;038441c925bb&quot;</td><td>6</td><td>&quot;onset&quot;</td><td>91296</td><td>2018-08-20 02:18:00 UTC</td></tr><tr><td>&quot;038441c925bb&quot;</td><td>6</td><td>&quot;wakeup&quot;</td><td>97860</td><td>2018-08-20 11:25:00 UTC</td></tr><tr><td>&hellip;</td><td>&hellip;</td><td>&hellip;</td><td>&hellip;</td><td>&hellip;</td></tr><tr><td>&quot;fe90110788d2&quot;</td><td>30</td><td>&quot;onset&quot;</td><td>505116</td><td>2017-09-03 03:03:00 UTC</td></tr><tr><td>&quot;fe90110788d2&quot;</td><td>30</td><td>&quot;wakeup&quot;</td><td>511284</td><td>2017-09-03 11:37:00 UTC</td></tr><tr><td>&quot;fe90110788d2&quot;</td><td>31</td><td>&quot;onset&quot;</td><td>522852</td><td>2017-09-04 03:41:00 UTC</td></tr><tr><td>&quot;fe90110788d2&quot;</td><td>31</td><td>&quot;wakeup&quot;</td><td>529104</td><td>2017-09-04 12:22:00 UTC</td></tr><tr><td>&quot;fe90110788d2&quot;</td><td>32</td><td>&quot;onset&quot;</td><td>538956</td><td>2017-09-05 02:03:00 UTC</td></tr><tr><td>&quot;fe90110788d2&quot;</td><td>32</td><td>&quot;wakeup&quot;</td><td>547152</td><td>2017-09-05 13:26:00 UTC</td></tr><tr><td>&quot;fe90110788d2&quot;</td><td>33</td><td>&quot;onset&quot;</td><td>556560</td><td>2017-09-06 02:30:00 UTC</td></tr><tr><td>&quot;fe90110788d2&quot;</td><td>33</td><td>&quot;wakeup&quot;</td><td>560604</td><td>2017-09-06 08:07:00 UTC</td></tr><tr><td>&quot;fe90110788d2&quot;</td><td>34</td><td>&quot;onset&quot;</td><td>574620</td><td>2017-09-07 03:35:00 UTC</td></tr><tr><td>&quot;fe90110788d2&quot;</td><td>34</td><td>&quot;wakeup&quot;</td><td>581604</td><td>2017-09-07 13:17:00 UTC</td></tr><tr><td>&quot;fe90110788d2&quot;</td><td>35</td><td>&quot;onset&quot;</td><td>null</td><td>null</td></tr><tr><td>&quot;fe90110788d2&quot;</td><td>35</td><td>&quot;wakeup&quot;</td><td>null</td><td>null</td></tr></tbody></table></div>"
      ],
      "text/plain": [
       "shape: (14_508, 5)\n",
       "┌──────────────┬───────┬────────┬────────┬─────────────────────────┐\n",
       "│ series_id    ┆ night ┆ event  ┆ step   ┆ timestamp               │\n",
       "│ ---          ┆ ---   ┆ ---    ┆ ---    ┆ ---                     │\n",
       "│ str          ┆ i64   ┆ str    ┆ i64    ┆ datetime[μs, UTC]       │\n",
       "╞══════════════╪═══════╪════════╪════════╪═════════════════════════╡\n",
       "│ 038441c925bb ┆ 1     ┆ onset  ┆ 4992   ┆ 2018-08-15 02:26:00 UTC │\n",
       "│ 038441c925bb ┆ 1     ┆ wakeup ┆ 10932  ┆ 2018-08-15 10:41:00 UTC │\n",
       "│ 038441c925bb ┆ 2     ┆ onset  ┆ 20244  ┆ 2018-08-15 23:37:00 UTC │\n",
       "│ 038441c925bb ┆ 2     ┆ wakeup ┆ 27492  ┆ 2018-08-16 09:41:00 UTC │\n",
       "│ …            ┆ …     ┆ …      ┆ …      ┆ …                       │\n",
       "│ fe90110788d2 ┆ 34    ┆ onset  ┆ 574620 ┆ 2017-09-07 03:35:00 UTC │\n",
       "│ fe90110788d2 ┆ 34    ┆ wakeup ┆ 581604 ┆ 2017-09-07 13:17:00 UTC │\n",
       "│ fe90110788d2 ┆ 35    ┆ onset  ┆ null   ┆ null                    │\n",
       "│ fe90110788d2 ┆ 35    ┆ wakeup ┆ null   ┆ null                    │\n",
       "└──────────────┴───────┴────────┴────────┴─────────────────────────┘"
      ]
     },
     "execution_count": 6,
     "metadata": {},
     "output_type": "execute_result"
    }
   ],
   "source": [
    "train_events2 = train_events.with_columns(\n",
    "    pl.col(\"timestamp\").str.to_datetime(\"%Y-%m-%dT%H:%M:%S%z\"),\n",
    ")\n",
    "\n",
    "train_events2"
   ]
  },
  {
   "cell_type": "code",
   "execution_count": 7,
   "metadata": {},
   "outputs": [],
   "source": [
    "# Define the schema and constants as per your script\n",
    "SERIES_SCHEMA = {\n",
    "    \"series_id\": pl.Utf8,\n",
    "    \"step\": pl.Int64,\n",
    "    \"anglez\": pl.Float32,\n",
    "    \"enmo\": pl.Float32,\n",
    "}\n",
    "\n",
    "FEATURE_NAMES = [\n",
    "    \"anglez\",\n",
    "    \"enmo\",\n",
    "    \"step\",\n",
    "    \"hour_sin\",\n",
    "    \"hour_cos\",\n",
    "    \"month_sin\",\n",
    "    \"month_cos\",\n",
    "    \"minute_sin\",\n",
    "    \"minute_cos\",\n",
    "    \"anglez_sin\",\n",
    "    \"anglez_cos\",\n",
    "]\n",
    "\n",
    "ANGLEZ_MEAN = -8.810476\n",
    "ANGLEZ_STD = 35.521877\n",
    "ENMO_MEAN = 0.041315\n",
    "ENMO_STD = 0.101829\n",
    "\n",
    "# Define the feature engineering functions\n",
    "def to_coord(x: pl.Expr, max_: int, name: str) -> list[pl.Expr]:\n",
    "    rad = 2 * np.pi * (x % max_) / max_\n",
    "    x_sin = rad.sin()\n",
    "    x_cos = rad.cos()\n",
    "    return [x_sin.alias(f\"{name}_sin\"), x_cos.alias(f\"{name}_cos\")]\n",
    "\n",
    "def deg_to_rad(x: pl.Expr) -> pl.Expr:\n",
    "    return np.pi / 180 * x\n",
    "\n",
    "def add_feature(series_df: pl.DataFrame) -> pl.DataFrame:\n",
    "    series_df = (\n",
    "        series_df.with_row_count(\"step\")\n",
    "        .with_columns(\n",
    "            *to_coord(pl.col(\"timestamp\").dt.hour(), 24, \"hour\"),\n",
    "            *to_coord(pl.col(\"timestamp\").dt.month(), 12, \"month\"),\n",
    "            *to_coord(pl.col(\"timestamp\").dt.minute(), 60, \"minute\"),\n",
    "            pl.col(\"step\") / pl.count(\"step\"),\n",
    "            pl.col('anglez_rad').sin().alias('anglez_sin'),\n",
    "            pl.col('anglez_rad').cos().alias('anglez_cos'),\n",
    "        )\n",
    "        .select(\"series_id\", *FEATURE_NAMES)\n",
    "    )\n",
    "    return series_df\n",
    "\n",
    "def save_each_series(this_series_df: pl.DataFrame, columns: list[str], output_dir: Path):\n",
    "    output_dir.mkdir(parents=True, exist_ok=True)\n",
    "    for col_name in columns:\n",
    "        x = this_series_df.get_column(col_name).to_numpy(zero_copy_only=True)\n",
    "        np.save(output_dir / f\"{col_name}.npy\", x)"
   ]
  },
  {
   "cell_type": "code",
   "execution_count": 10,
   "metadata": {},
   "outputs": [],
   "source": [
    "# Process the train_series dataset\n",
    "train_series_df2 = (\n",
    "    train_series.with_columns(\n",
    "        pl.col(\"timestamp\").str.to_datetime(\"%Y-%m-%dT%H:%M:%S%z\"),\n",
    "        # pl.col(\"timestamp\").str.to_datetime(),\n",
    "        deg_to_rad(pl.col(\"anglez\")).alias(\"anglez_rad\"),\n",
    "        (pl.col(\"anglez\") - ANGLEZ_MEAN) / ANGLEZ_STD,\n",
    "        (pl.col(\"enmo\") - ENMO_MEAN) / ENMO_STD,\n",
    "    )\n",
    "    .select(\n",
    "        [\n",
    "            pl.col(\"series_id\"),\n",
    "            pl.col(\"step\"),\n",
    "            pl.col(\"timestamp\"),\n",
    "            pl.col(\"anglez\"),\n",
    "            pl.col(\"enmo\"),\n",
    "            pl.col(\"anglez_rad\"),\n",
    "        ]\n",
    "    )\n",
    "    .collect(streaming=True)\n",
    "    .sort(by=[\"series_id\", \"timestamp\"])\n",
    ")"
   ]
  },
  {
   "cell_type": "code",
   "execution_count": 11,
   "metadata": {},
   "outputs": [],
   "source": [
    "for column_name, polars_dtype in SERIES_SCHEMA.items():\n",
    "    train_series_df2 = train_series_df2.with_columns(\n",
    "        pl.col(column_name).cast(polars_dtype).alias(column_name)\n",
    "    )"
   ]
  },
  {
   "cell_type": "code",
   "execution_count": 21,
   "metadata": {},
   "outputs": [],
   "source": [
    "merged_df = train_series_df2.join(\n",
    "    train_events2.drop(columns=['night']), \n",
    "    on=['series_id', 'step', 'timestamp'], \n",
    "    how='outer'\n",
    ")"
   ]
  },
  {
   "cell_type": "code",
   "execution_count": 7,
   "metadata": {},
   "outputs": [
    {
     "data": {
      "text/html": [
       "<div><style>\n",
       ".dataframe > thead > tr,\n",
       ".dataframe > tbody > tr {\n",
       "  text-align: right;\n",
       "  white-space: pre-wrap;\n",
       "}\n",
       "</style>\n",
       "<small>shape: (5, 12)</small><table border=\"1\" class=\"dataframe\"><thead><tr><th>series_id</th><th>anglez</th><th>enmo</th><th>step</th><th>hour_sin</th><th>hour_cos</th><th>month_sin</th><th>month_cos</th><th>minute_sin</th><th>minute_cos</th><th>anglez_sin</th><th>anglez_cos</th></tr><tr><td>str</td><td>f32</td><td>f32</td><td>f64</td><td>f64</td><td>f64</td><td>f64</td><td>f64</td><td>f64</td><td>f64</td><td>f32</td><td>f32</td></tr></thead><tbody><tr><td>&quot;038441c925bb&quot;</td><td>0.322257</td><td>-0.192627</td><td>0.0</td><td>-0.965926</td><td>0.258819</td><td>-0.866025</td><td>-0.5</td><td>5.6655e-16</td><td>-1.0</td><td>0.046003</td><td>0.998941</td></tr><tr><td>&quot;038441c925bb&quot;</td><td>0.32226</td><td>-0.194591</td><td>7.8158e-9</td><td>-0.965926</td><td>0.258819</td><td>-0.866025</td><td>-0.5</td><td>5.6655e-16</td><td>-1.0</td><td>0.046005</td><td>0.998941</td></tr><tr><td>&quot;038441c925bb&quot;</td><td>0.322266</td><td>-0.193609</td><td>1.5632e-8</td><td>-0.965926</td><td>0.258819</td><td>-0.866025</td><td>-0.5</td><td>5.6655e-16</td><td>-1.0</td><td>0.046008</td><td>0.998941</td></tr><tr><td>&quot;038441c925bb&quot;</td><td>0.32226</td><td>-0.196555</td><td>2.3447e-8</td><td>-0.965926</td><td>0.258819</td><td>-0.866025</td><td>-0.5</td><td>5.6655e-16</td><td>-1.0</td><td>0.046005</td><td>0.998941</td></tr><tr><td>&quot;038441c925bb&quot;</td><td>0.32226</td><td>-0.194591</td><td>3.1263e-8</td><td>-0.965926</td><td>0.258819</td><td>-0.866025</td><td>-0.5</td><td>5.6655e-16</td><td>-1.0</td><td>0.046005</td><td>0.998941</td></tr></tbody></table></div>"
      ],
      "text/plain": [
       "shape: (5, 12)\n",
       "┌───────────┬──────────┬───────────┬───────────┬───┬───────────┬───────────┬───────────┬───────────┐\n",
       "│ series_id ┆ anglez   ┆ enmo      ┆ step      ┆ … ┆ minute_si ┆ minute_co ┆ anglez_si ┆ anglez_co │\n",
       "│ ---       ┆ ---      ┆ ---       ┆ ---       ┆   ┆ n         ┆ s         ┆ n         ┆ s         │\n",
       "│ str       ┆ f32      ┆ f32       ┆ f64       ┆   ┆ ---       ┆ ---       ┆ ---       ┆ ---       │\n",
       "│           ┆          ┆           ┆           ┆   ┆ f64       ┆ f64       ┆ f32       ┆ f32       │\n",
       "╞═══════════╪══════════╪═══════════╪═══════════╪═══╪═══════════╪═══════════╪═══════════╪═══════════╡\n",
       "│ 038441c92 ┆ 0.322257 ┆ -0.192627 ┆ 0.0       ┆ … ┆ 5.6655e-1 ┆ -1.0      ┆ 0.046003  ┆ 0.998941  │\n",
       "│ 5bb       ┆          ┆           ┆           ┆   ┆ 6         ┆           ┆           ┆           │\n",
       "│ 038441c92 ┆ 0.32226  ┆ -0.194591 ┆ 7.8158e-9 ┆ … ┆ 5.6655e-1 ┆ -1.0      ┆ 0.046005  ┆ 0.998941  │\n",
       "│ 5bb       ┆          ┆           ┆           ┆   ┆ 6         ┆           ┆           ┆           │\n",
       "│ 038441c92 ┆ 0.322266 ┆ -0.193609 ┆ 1.5632e-8 ┆ … ┆ 5.6655e-1 ┆ -1.0      ┆ 0.046008  ┆ 0.998941  │\n",
       "│ 5bb       ┆          ┆           ┆           ┆   ┆ 6         ┆           ┆           ┆           │\n",
       "│ 038441c92 ┆ 0.32226  ┆ -0.196555 ┆ 2.3447e-8 ┆ … ┆ 5.6655e-1 ┆ -1.0      ┆ 0.046005  ┆ 0.998941  │\n",
       "│ 5bb       ┆          ┆           ┆           ┆   ┆ 6         ┆           ┆           ┆           │\n",
       "│ 038441c92 ┆ 0.32226  ┆ -0.194591 ┆ 3.1263e-8 ┆ … ┆ 5.6655e-1 ┆ -1.0      ┆ 0.046005  ┆ 0.998941  │\n",
       "│ 5bb       ┆          ┆           ┆           ┆   ┆ 6         ┆           ┆           ┆           │\n",
       "└───────────┴──────────┴───────────┴───────────┴───┴───────────┴───────────┴───────────┴───────────┘"
      ]
     },
     "execution_count": 7,
     "metadata": {},
     "output_type": "execute_result"
    }
   ],
   "source": [
    "train_series_df3 = add_feature(train_series_df2)\n",
    "train_series_df3.head()"
   ]
  },
  {
   "cell_type": "code",
   "execution_count": null,
   "metadata": {},
   "outputs": [],
   "source": []
  }
 ],
 "metadata": {
  "kernelspec": {
   "display_name": "base",
   "language": "python",
   "name": "python3"
  },
  "language_info": {
   "codemirror_mode": {
    "name": "ipython",
    "version": 3
   },
   "file_extension": ".py",
   "mimetype": "text/x-python",
   "name": "python",
   "nbconvert_exporter": "python",
   "pygments_lexer": "ipython3",
   "version": "3.11.3"
  }
 },
 "nbformat": 4,
 "nbformat_minor": 2
}
